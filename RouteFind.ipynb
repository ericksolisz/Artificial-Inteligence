{
 "cells": [
  {
   "cell_type": "markdown",
   "metadata": {},
   "source": [
    ""
   ]
  },
  {
   "cell_type": "code",
   "execution_count": 1,
   "metadata": {},
   "outputs": [],
   "source": [
    "import random\n",
    "from networkx import Graph\n",
    "import numpy as np\n",
    "import pandas as pd\n",
    "import operator\n",
    "import time"
   ]
  },
  {
   "cell_type": "markdown",
   "metadata": {},
   "source": [
    "First we define our class node which has a name and neighbor nodes, a method to get the time with its respective neighbors and its representation"
   ]
  },
  {
   "cell_type": "code",
   "execution_count": 2,
   "metadata": {},
   "outputs": [],
   "source": [
    "class CityNode:\n",
    "    def __init__(self, name, neighbors):\n",
    "        self.name = name\n",
    "        #neighbors is a dictionary where the keys are the names of the neighbor nodes and the values ​​are dictionaries containing attributes of the edges, such as travel time.\n",
    "        self.neighbors = neighbors \n",
    "    def travel_time(self, node):\n",
    "        return self.neighbors[node.name]['time'] #travel time to neighbours\n",
    "    def __repr__(self):\n",
    "        return \"(\" + str(self.name) + \")\""
   ]
  },
  {
   "cell_type": "markdown",
   "metadata": {},
   "source": [
    "Then we define our graph "
   ]
  },
  {
   "cell_type": "code",
   "execution_count": 3,
   "metadata": {},
   "outputs": [],
   "source": [
    "city_network = Graph()\n",
    "city_network.add_edge(\"Rosario\", \"Instituto del petroleo\", time=6)\n",
    "city_network.add_edge(\"Instituto del petroleo\", \"La Raza\", time=2)\n",
    "city_network.add_edge(\"La Raza\", \"Guerrero\", time=2)\n",
    "city_network.add_edge(\"Guerrero\", \"Hidalgo\", time=1)\n",
    "city_network.add_edge(\"Hidalgo\", \"Tacuba\", time=7)\n",
    "city_network.add_edge(\"Tacuba\", \"Rosario\", time=4)\n",
    "city_network.add_edge(\"Deportivo 18 de marzo\", \"Instituto del petroleo\", time=2)\n",
    "city_network.add_edge(\"Deportivo 18 de marzo\", \"La Raza\", time=2)\n",
    "city_network.add_edge(\"Martin Carrera\", \"Deportivo 18 de marzo\", time=2)\n",
    "city_network.add_edge(\"Martin Carrera\", \"Consulado\", time=3)\n",
    "city_network.add_edge(\"Consulado\", \"La Raza\", time=3)\n",
    "city_network.add_edge(\"Consulado\", \"Oceania\", time=3)\n",
    "city_network.add_edge(\"Consulado\", \"Morelos\", time=2)\n",
    "city_network.add_edge(\"Garibaldi\", \"Guerrero\", time=1)\n",
    "city_network.add_edge(\"Garibaldi\", \"Morelos\", time=3)\n",
    "city_network.add_edge(\"Oceania\", \"San Lazaro\", time=3)\n",
    "city_network.add_edge(\"Morelos\", \"San Lazaro\", time=1)\n",
    "city_network.add_edge(\"Pantitlan\", \"Oceania\", time=3)\n",
    "city_network.add_edge(\"Pantitlan\", \"San Lazaro\", time=6)\n",
    "city_network.add_edge(\"Candelaria\", \"San Lazaro\", time=1)\n",
    "city_network.add_edge(\"Candelaria\", \"Morelos\", time=1)\n",
    "city_network.add_edge(\"Pino Suarez\", \"Candelaria\", time=2)\n",
    "city_network.add_edge(\"Pino Suarez\", \"Bellas artes\", time=3)\n",
    "city_network.add_edge(\"Bellas artes\", \"Garibaldi\", time=1)\n",
    "city_network.add_edge(\"Bellas artes\", \"Hidalgo\", time=1)\n",
    "city_network.add_edge(\"Salto del agua\", \"Bellas artes\", time=2)\n",
    "city_network.add_edge(\"Salto del agua\", \"Pino Suarez\", time=2)\n",
    "city_network.add_edge(\"Balderas\", \"Hidalgo\", time=2)\n",
    "city_network.add_edge(\"Balderas\", \"Salto del agua\", time=1)\n",
    "city_network.add_edge(\"Balderas\", \"Tacubaya\", time=6)\n",
    "city_network.add_edge(\"Tacuba\", \"Tacubaya\", time=5)\n",
    "city_network.add_edge(\"Centro medico\", \"Tacubaya\", time=3)\n",
    "city_network.add_edge(\"Centro medico\", \"Balderas\", time=3)\n",
    "city_network.add_edge(\"Centro medico\", \"Chabacano\", time=2)\n",
    "city_network.add_edge(\"Salto del agua\", \"Chabacano\", time=3)\n",
    "city_network.add_edge(\"Pino Suarez\", \"Chabacano\", time=2)\n",
    "city_network.add_edge(\"Jamaica\", \"Candelaria\", time=2)\n",
    "city_network.add_edge(\"Jamaica\", \"Chabacano\", time=1)\n",
    "city_network.add_edge(\"Jamaica\", \"Pantitlan\", time=5)\n",
    "city_network.add_edge(\"Baja jamaica\", \"Chabacano\", time=2)\n",
    "city_network.add_edge(\"Baja jamaica\", \"Jamaica\", time=1)\n",
    "city_network.add_edge(\"Tacubaya\", \"Mixcoac\", time=3)\n",
    "city_network.add_edge(\"Zapata\", \"Mixcoac\", time=3)\n",
    "city_network.add_edge(\"Zapata\", \"Centro medico\", time=4)\n",
    "city_network.add_edge(\"Zapata\", \"Ermita\", time=3)\n",
    "city_network.add_edge(\"Ermita\", \"Chabacano\", time=6)\n",
    "city_network.add_edge(\"Ermita\", \"Atlalilco\", time=2)\n",
    "city_network.add_edge(\"Baja jamaica\", \"Atlalilco\", time=6)"
   ]
  },
  {
   "cell_type": "markdown",
   "metadata": {},
   "source": [
    "Now we can see the list of nodes that we have"
   ]
  },
  {
   "cell_type": "code",
   "execution_count": 4,
   "metadata": {},
   "outputs": [
    {
     "name": "stdout",
     "output_type": "stream",
     "text": [
      "[(Rosario), (Instituto del petroleo), (La Raza), (Guerrero), (Hidalgo), (Tacuba), (Deportivo 18 de marzo), (Martin Carrera), (Consulado), (Oceania), (Morelos), (Garibaldi), (San Lazaro), (Pantitlan), (Candelaria), (Pino Suarez), (Bellas artes), (Salto del agua), (Balderas), (Tacubaya), (Centro medico), (Chabacano), (Jamaica), (Baja jamaica), (Mixcoac), (Zapata), (Ermita), (Atlalilco)]\n"
     ]
    }
   ],
   "source": [
    "#Creates a list of nodes iterating over the city_network nodes and adding its neighbours iterating over the neighbors of each node.\n",
    "city_list = [CityNode(node, {neighbor: city_network.edges[node, neighbor] for neighbor in city_network.neighbors(node)}) for node in city_network.nodes()]\n",
    "\n",
    "print(str(city_list))"
   ]
  },
  {
   "cell_type": "markdown",
   "metadata": {},
   "source": [
    "Lets define the the departure node and the destination node, based on the list of the nodes list"
   ]
  },
  {
   "cell_type": "code",
   "execution_count": 5,
   "metadata": {},
   "outputs": [],
   "source": [
    "def find_index(node: str) -> int:\n",
    "    for i in range(len(city_list)):\n",
    "        if(node in city_list[i].name): #if the name node nodes is in the list of nodes return index\n",
    "            return i\n",
    "        \n",
    "start_node_index = find_index(\"Rosario\") #start node of the problem\n",
    "end_node_index = find_index(\"San Lazaro\") #end node of the problem"
   ]
  },
  {
   "cell_type": "markdown",
   "metadata": {},
   "source": [
    "Then we have our initialPopulation and generateGenome function, the function initialpopulation will create genomes based on the population size, is just a for loop that calls the generate genome function, which generates random routes from the departure node to the destination node."
   ]
  },
  {
   "cell_type": "code",
   "execution_count": 6,
   "metadata": {},
   "outputs": [],
   "source": [
    "def generate_genome_sequence(city_list):\n",
    "    genome = [] #Initialize \n",
    "    #Create a copy of the nodelist to manipulate the list without causing changes in the original\n",
    "    remaining_nodes = city_list.copy()\n",
    "    #initialize the start of the genome with the departure node\n",
    "    current_node = remaining_nodes[start_node_index]\n",
    "    #remove node of the remaining nodes\n",
    "    remaining_nodes.remove(current_node)\n",
    "    #append the current node that is the start of the route to the genome\n",
    "    genome.append(current_node)\n",
    "\n",
    "    while remaining_nodes:\n",
    "      #the avaible nodes are the nodes that are neighbors to the current node\n",
    "      available_nodes = [node for node in remaining_nodes if node.name in current_node.neighbors]\n",
    "\n",
    "      if not available_nodes:# if no available cities, return None\n",
    "          return None \n",
    "      \n",
    "      #chose a random neighbor node\n",
    "      next_node = random.choice(available_nodes) \n",
    "      #if the nex_node is the destination node, return the genome as a possible solution\n",
    "      if(next_node == city_list[end_node_index]):\n",
    "          genome.append(next_node)\n",
    "          return genome\n",
    "      else:#else append the next_node or gene to genome and continue generating genome\n",
    "        genome.append(next_node)\n",
    "        remaining_nodes.remove(next_node)\n",
    "        current_node = next_node\n",
    "\n",
    "    return genome\n",
    "\n",
    "def initialize_population(popSize, city_list):\n",
    "    #initialize the list of genomes known as our population\n",
    "    population = []\n",
    "    #while population is not complete\n",
    "    while len(population) < popSize:\n",
    "        #create a genome\n",
    "        genome = generate_genome_sequence(city_list)\n",
    "        #if genome is not none append the genome to the population\n",
    "        if genome is not None:\n",
    "            population.append(genome)\n",
    "    return population"
   ]
  },
  {
   "cell_type": "markdown",
   "metadata": {},
   "source": [
    "Our fitness class that will check the fitness of the genome, we sum the times of the genome, and then return the inverse of time since the shorter the route time, the greater the fitness."
   ]
  },
  {
   "cell_type": "code",
   "execution_count": 7,
   "metadata": {},
   "outputs": [],
   "source": [
    "class GenomeFitness:\n",
    "    def __init__(self, genome):\n",
    "        self.genome = genome\n",
    "        #initialize time in 0\n",
    "        self.time = 0\n",
    "        #initialize fitness in 0\n",
    "        self.fitness = 0.0\n",
    "\n",
    "    def routeDistance(self):\n",
    "        #initialize the time of the genome as 0\n",
    "        path_time = 0\n",
    "        #we Iterate across the genome \n",
    "        for i in range(0, len(self.genome)):\n",
    "            #set a variable for the node that we are evaluating in the iteration\n",
    "            fromCityNode = self.genome[i]\n",
    "            #if there is a next node in the genome\n",
    "            if i + 1 < len(self.genome):\n",
    "                #set a variable for the next node\n",
    "                toCity = self.genome[i + 1]\n",
    "            #we ensure that the next node is in the neighbors of the nodes that we are evaluating\n",
    "            if toCity.name in fromCityNode.neighbors:\n",
    "                #add the travel time to the path time\n",
    "                path_time += fromCityNode.travel_time(toCity)\n",
    "        self.time = path_time\n",
    "        #return the path time\n",
    "        return  self.time\n",
    "\n",
    "    def routeGenomeFitness(self):\n",
    "        if self.fitness == 0:\n",
    "            #set a variable for the path time\n",
    "            time = self.routeDistance()\n",
    "            #set the fitness as the inverse of the time\n",
    "            self.fitness = 1 / float(time)\n",
    "        return self.fitness"
   ]
  },
  {
   "cell_type": "markdown",
   "metadata": {},
   "source": [
    "The rankGenomes function will help us to rank the genomes by their fitness function, meaning that the first genomes are closer to the solution compared to the others."
   ]
  },
  {
   "cell_type": "code",
   "execution_count": 8,
   "metadata": {},
   "outputs": [],
   "source": [
    "def rank_genome_by_fitness(population):\n",
    "    #initialize the list of the fitness results\n",
    "    fitnessResults = {}\n",
    "    for i in range(0,len(population)):\n",
    "        #add the result of the currente genome in the population\n",
    "        fitnessResults[i] = GenomeFitness(population[i]).routeGenomeFitness()\n",
    "    #sort the genomes based on their fitness\n",
    "    sorted_results=sorted(fitnessResults.items(), key = operator.itemgetter(1), reverse = True)\n",
    "    return sorted_results"
   ]
  },
  {
   "cell_type": "markdown",
   "metadata": {},
   "source": [
    "The selection function will preserve the elite that are the best genomes, and will select what others genomes are preserved"
   ]
  },
  {
   "cell_type": "code",
   "execution_count": 9,
   "metadata": {},
   "outputs": [],
   "source": [
    "def select_elite_genomes(popRanked, eliteSize):\n",
    "    #initialize list of select_elite_genomes results\n",
    "    select_elite_genomesResults = []\n",
    "    #create a dataframe of the population ranked with columns of its index and fitness\n",
    "    df = pd.DataFrame(np.array(popRanked), columns=[\"Index\",\"GenomeFitness\"])\n",
    "    #calculate the fitness accumulated sum \n",
    "    df['cum_sum'] = df.GenomeFitness.cumsum()\n",
    "    #percentage of cumulative fitness value\n",
    "    df['cum_perc'] = 100*df.cum_sum/df.GenomeFitness.sum()\n",
    "    #preserve the elite of the population\n",
    "    for i in range(0, eliteSize):\n",
    "        select_elite_genomesResults.append(popRanked[i][0])\n",
    "    #iterate over the rest\n",
    "    for i in range(0, len(popRanked) - eliteSize):\n",
    "        #chose a random genome of the population\n",
    "        pick = 100*random.random()\n",
    "        for i in range(0, len(popRanked)):\n",
    "            #compares the pick and the accumulated percentage sum, if the pick i lesser, we chose that genome\n",
    "            if pick <= df.iat[i,3]:\n",
    "                select_elite_genomesResults.append(popRanked[i][0])\n",
    "                break\n",
    "    return select_elite_genomesResults"
   ]
  },
  {
   "cell_type": "markdown",
   "metadata": {},
   "source": [
    "The matingpool function creates a mating pool by selecting individuals from the population according to previously calculated selection results."
   ]
  },
  {
   "cell_type": "code",
   "execution_count": 10,
   "metadata": {},
   "outputs": [],
   "source": [
    "def create_mating_pool(population, select_elite_genomesResults):\n",
    "    #Initialize list of the mating pool\n",
    "    matingpool = []\n",
    "    #iterate over the select_elite_genomes results\n",
    "    for i in range(0, len(select_elite_genomesResults)):\n",
    "        index = select_elite_genomesResults[i]\n",
    "        #append each selected genomes to the mating pool\n",
    "        matingpool.append(population[index])\n",
    "    return matingpool"
   ]
  },
  {
   "cell_type": "markdown",
   "metadata": {},
   "source": [
    "In the function crossover makes the child of two genomes selected"
   ]
  },
  {
   "cell_type": "code",
   "execution_count": 11,
   "metadata": {},
   "outputs": [],
   "source": [
    "def combine_genomes(parent1, parent2):\n",
    "    #Initialize the genome of the offspring from two parents\n",
    "    child = []\n",
    "    #first half of child\n",
    "    childP1 = []\n",
    "    #second half of child\n",
    "    childP2 = []\n",
    "    #select two random points for the cross overs\n",
    "    geneA = int(random.random() * len(parent1))\n",
    "    geneB = int(random.random() * len(parent1))\n",
    "    #determine the points of start and end for the combine_genomes\n",
    "    startGene = min(geneA, geneB)\n",
    "    endGene = max(geneA, geneB)\n",
    "    #create the first half of the genome\n",
    "    for i in range(startGene, endGene):\n",
    "        childP1.append(parent1[i])\n",
    "    #create the second half of the child   \n",
    "    childP2 = [item for item in parent2 if item not in childP1]\n",
    "    #join the two parts\n",
    "    child = childP1 + childP2\n",
    "    return child"
   ]
  },
  {
   "cell_type": "markdown",
   "metadata": {},
   "source": [
    "the cross_population function cross the genomes in the matingpool list, and returns a list of the childrens"
   ]
  },
  {
   "cell_type": "code",
   "execution_count": 12,
   "metadata": {},
   "outputs": [],
   "source": [
    "def crossover_population(matingpool, eliteSize):\n",
    "    #initialize list of children\n",
    "    children = []\n",
    "    #the length of children is the mating pool minus the size of the elite\n",
    "    length = len(matingpool) - eliteSize\n",
    "    # The mating group is randomly mixed\n",
    "    pool = random.sample(matingpool, len(matingpool))\n",
    "    #append the elite in the children list since they are gonna pass to the next generation\n",
    "    for i in range(0,eliteSize):\n",
    "        children.append(matingpool[i])\n",
    "    #generate children of no elite genomes\n",
    "    for i in range(0, length):\n",
    "        #set a variable for the child of two parents at different sides of the matingpool\n",
    "        child = combine_genomes(pool[i], pool[len(matingpool)-i-1])\n",
    "        #verify that all the nodes in the genome are neighbors\n",
    "        valid_child = all(node1.name in node2.neighbors for node1, node2 in zip(child[:-1], child[1:]))\n",
    "        #if is a valid child append to the childrens list\n",
    "        if valid_child:\n",
    "            children.append(child)\n",
    "        else:\n",
    "            #try to generate other children with other parents\n",
    "            continue\n",
    "    return children"
   ]
  },
  {
   "cell_type": "markdown",
   "metadata": {},
   "source": [
    "The mutate function, takes the mutation rate, and if a random number is lesser than the mutation rate, does the mutation, a mutation is to change genes of the genome."
   ]
  },
  {
   "cell_type": "code",
   "execution_count": 13,
   "metadata": {},
   "outputs": [],
   "source": [
    "def apply_mutation(individual, mutationRate):\n",
    "    #Iterate across the genome\n",
    "    for swapped in range(len(individual)):\n",
    "        #if a random number is less than the mutation rate\n",
    "        if(random.random() < mutationRate):\n",
    "            #the mutation, the gene that change\n",
    "            swapWith = int(random.random() * len(individual))\n",
    "            #set variables for the genes tobe swapped\n",
    "            node1 = individual[swapped]\n",
    "            node2 = individual[swapWith]\n",
    "            # Verify that the adjacent nodes are neighbors of the apply_mutationd gene\n",
    "            if (swapped == 0 or node2.name in individual[swapped - 1].neighbors) and \\\n",
    "               (swapped == len(individual) - 1 or node2.name in individual[swapped + 1].neighbors) and \\\n",
    "               (swapWith == 0 or node1.name in individual[swapWith - 1].neighbors) and \\\n",
    "               (swapWith == len(individual) - 1 or node1.name in individual[swapWith + 1].neighbors):\n",
    "            #do the exchange of genes\n",
    "                individual[swapped] = node2\n",
    "                individual[swapWith] = node1\n",
    "            else:\n",
    "              #continue with other gene without doing changes since the mutation was not valid\n",
    "              continue\n",
    "    return individual"
   ]
  },
  {
   "cell_type": "markdown",
   "metadata": {},
   "source": [
    "the mutate population function just calls the mutate function for all the population"
   ]
  },
  {
   "cell_type": "code",
   "execution_count": 14,
   "metadata": {},
   "outputs": [],
   "source": [
    "def apply_mutationPopulation(population, mutationRate):\n",
    "    #Initialize list of the apply_mutationd population\n",
    "    apply_mutationdPop = []\n",
    "    #iterate across the population\n",
    "    for ind in range(0, len(population)):\n",
    "        #call the apply_mutation function and set a variable to keep the return of the function\n",
    "        #the apply_mutationd genome\n",
    "        apply_mutationdInd = apply_mutation(population[ind], mutationRate)\n",
    "        #append the apply_mutationd genome to the list\n",
    "        apply_mutationdPop.append(apply_mutationdInd)\n",
    "    return apply_mutationdPop"
   ]
  },
  {
   "cell_type": "markdown",
   "metadata": {},
   "source": [
    "the next generation function returns the population of the next generation calling the methods rankGenomes, selection, matingPool, cross_Population, mutatePopulation."
   ]
  },
  {
   "cell_type": "code",
   "execution_count": 15,
   "metadata": {},
   "outputs": [],
   "source": [
    "def create_next_generation(currentGen, eliteSize, mutationRate):\n",
    "    #rank generation\n",
    "    popRanked = rank_genome_by_fitness(currentGen)\n",
    "    #select the genomes of the current generation\n",
    "    select_elite_genomesResults = select_elite_genomes(popRanked, eliteSize)\n",
    "    #set the mating pool\n",
    "    matingpool = create_mating_pool(currentGen, select_elite_genomesResults)\n",
    "    #cross parents in mating pool\n",
    "    children = crossover_population(matingpool, eliteSize)\n",
    "    #apply_mutation the children\n",
    "    create_next_generation = apply_mutationPopulation(children, mutationRate)\n",
    "    return create_next_generation"
   ]
  },
  {
   "cell_type": "markdown",
   "metadata": {},
   "source": [
    "The function of the genetic algorithm, receives the nodeList, the size of the population, the size of the elite, the mutation rate and the generations, will run the nextGeneration method the generation that we specify and save the best genome in each generation."
   ]
  },
  {
   "cell_type": "code",
   "execution_count": 16,
   "metadata": {},
   "outputs": [],
   "source": [
    "def run_genetic_algorithm(city_list, popSize, eliteSize, mutationRate, generations):\n",
    "    #start a initial population\n",
    "    pop = initialize_population(popSize, city_list)\n",
    "    #list to store the best fitness in each generation\n",
    "    progress = []\n",
    "    #rank the best fitness in the first population and append it to the progress list\n",
    "    progress.append(rank_genome_by_fitness(pop)[0][1])\n",
    "    #run x number of generations\n",
    "    for i in range(0, generations):\n",
    "        #the population of the next generation\n",
    "        pop = create_next_generation(pop, eliteSize, mutationRate)\n",
    "        #the best fitness of current generation\n",
    "        best_fitness = rank_genome_by_fitness(pop)[0][1]\n",
    "        #append the best fitness to the progress list\n",
    "        progress.append(best_fitness)\n",
    "        #get the index of the best genome\n",
    "        best_genome_index = rank_genome_by_fitness(pop)[0][0]\n",
    "        #get the best genome\n",
    "        best_genome = pop[best_genome_index]\n",
    "        #get the fitness of the best genome\n",
    "        best_genome_fitness = GenomeFitness(best_genome)\n",
    "        #get time of best genome\n",
    "        best_genome_time = best_genome_fitness.routeDistance()\n",
    "\n",
    "    #get the best genome index after all the generations\n",
    "    best_genome_index = rank_genome_by_fitness(pop)[0][0]\n",
    "    #get the best genome  after all the generations\n",
    "    best_genome = pop[best_genome_index]\n",
    "    return best_genome"
   ]
  },
  {
   "cell_type": "markdown",
   "metadata": {},
   "source": [
    "debug the execution time and launch the algorithm with given parameters"
   ]
  },
  {
   "cell_type": "code",
   "execution_count": 17,
   "metadata": {},
   "outputs": [
    {
     "name": "stdout",
     "output_type": "stream",
     "text": [
      "\n",
      "Best Route:\n",
      "['Rosario', 'Instituto del petroleo', 'La Raza', 'Consulado', 'Morelos', 'San Lazaro']\n",
      "Best Route Time: 14\n",
      "Execution time: 0.08253002166748047\n"
     ]
    }
   ],
   "source": [
    "start = time.time()\n",
    "best_genome = run_genetic_algorithm(city_list=city_list, popSize=100, eliteSize=40, mutationRate=0.3, generations=50)\n",
    "\n",
    "#get the time of the best genome\n",
    "best_genome_fitness = GenomeFitness(best_genome)\n",
    "best_genome_time = best_genome_fitness.routeDistance()\n",
    "\n",
    "print(\"\")\n",
    "print(\"Best Route:\")\n",
    "print([city.name for city in best_genome])\n",
    "print(\"Best Route Time:\", best_genome_time)\n",
    "end = time.time()\n",
    "print(\"Execution time: \"+ str(end-start))\n"
   ]
  },
  {
   "cell_type": "code",
   "execution_count": null,
   "metadata": {},
   "outputs": [],
   "source": []
  },
  {
   "cell_type": "code",
   "execution_count": null,
   "metadata": {},
   "outputs": [],
   "source": []
  },
  {
   "cell_type": "code",
   "execution_count": null,
   "metadata": {},
   "outputs": [],
   "source": []
  },
  {
   "cell_type": "code",
   "execution_count": null,
   "metadata": {},
   "outputs": [],
   "source": []
  }
 ],
 "metadata": {
  "kernelspec": {
   "display_name": "Python 3 (ipykernel)",
   "language": "python",
   "name": "python3"
  },
  "language_info": {
   "codemirror_mode": {
    "name": "ipython",
    "version": 3
   },
   "file_extension": ".py",
   "mimetype": "text/x-python",
   "name": "python",
   "nbconvert_exporter": "python",
   "pygments_lexer": "ipython3",
   "version": "3.11.7"
  }
 },
 "nbformat": 4,
 "nbformat_minor": 4
}
